{
 "cells": [
  {
   "cell_type": "markdown",
   "id": "341bef48-4026-481e-aced-a7a37653af49",
   "metadata": {
    "tags": []
   },
   "source": [
    "# Launch dask cluster"
   ]
  },
  {
   "cell_type": "markdown",
   "id": "640d2ac5-2e33-45f7-b2d5-c3d61e2c12b8",
   "metadata": {},
   "source": [
    "We first launch a cluster and import it in the notebook, it should look like this :"
   ]
  },
  {
   "cell_type": "code",
   "execution_count": null,
   "id": "64886cd2-72cd-4177-b46e-c96e861d15df",
   "metadata": {},
   "outputs": [],
   "source": [
    "from dask.distributed import Client\n",
    "\n",
    "client = Client(\"tcp://127.0.0.1:40977\")\n",
    "client"
   ]
  },
  {
   "cell_type": "markdown",
   "id": "63e9ae72-6b89-4267-857a-99a8d6b8f19f",
   "metadata": {},
   "source": [
    "# Import libraries"
   ]
  },
  {
   "cell_type": "markdown",
   "id": "d0ef4c68-5483-4702-be25-0945c09cce2e",
   "metadata": {},
   "source": [
    "We load basic libraries (numpy, xarray, matplotlib, scipy) and one more specific :\n",
    "  - xrft for Fourier transforms compatible with xarray : https://xrft.readthedocs.io/en/latest/\n"
   ]
  },
  {
   "cell_type": "code",
   "execution_count": null,
   "id": "b66eb659-0262-4f02-bd17-c586f57350b1",
   "metadata": {},
   "outputs": [],
   "source": [
    "import numpy as np\n",
    "import xarray as xr\n",
    "import xrft\n",
    "from scipy.interpolate import griddata\n",
    "import matplotlib.colors as clr\n",
    "import matplotlib.pyplot as plt\n",
    "import cmocean\n",
    "%matplotlib inline"
   ]
  },
  {
   "cell_type": "markdown",
   "id": "c5a52391-a029-4971-829a-c88d56106d96",
   "metadata": {},
   "source": [
    "# Call data"
   ]
  },
  {
   "cell_type": "markdown",
   "id": "ce6c265a-f574-4f2f-9315-a82c0049f3c8",
   "metadata": {},
   "source": [
    "We open eNATL60 dataset : it is the Gulf Stream extraction of surface data for 3 months"
   ]
  },
  {
   "cell_type": "code",
   "execution_count": null,
   "id": "09503621-ec99-4d1d-9df9-c2794beaa3c4",
   "metadata": {},
   "outputs": [],
   "source": [
    "store='https://ncsa.osn.xsede.org/Pangeo/pangeo-forge/swot_adac/eNATL60/Region01/surface_hourly/fma.zarr'\n",
    "ds = xr.open_dataset(store, engine='zarr', chunks={})\n",
    "ds"
   ]
  },
  {
   "cell_type": "code",
   "execution_count": null,
   "id": "7d1e5a63-c24a-48a9-846f-78150cb3f595",
   "metadata": {},
   "outputs": [],
   "source": [
    "ds.sosstsst[0].plot(cmap=cmocean.cm.thermal)"
   ]
  },
  {
   "cell_type": "markdown",
   "id": "209541fb-a5af-4324-b1b5-b06e12236070",
   "metadata": {},
   "source": [
    "To compare multiple datasets a local catalog has been designed : [catalog.yaml](catalog.yaml)\n",
    "\n",
    "It allows an easy access to the datasets\n",
    "\n",
    "Let's have a look at all the simulations that have been uploaded on the cloud :"
   ]
  },
  {
   "cell_type": "code",
   "execution_count": null,
   "id": "01a37a7d-853d-457d-9f1f-f0a30f044a76",
   "metadata": {},
   "outputs": [],
   "source": [
    "from validate_catalog import all_params\n",
    "params_dict, cat = all_params()\n",
    "\n",
    "for entry in params_dict.keys():\n",
    "    print(f\"{entry} parameters and their allowable args are:\")\n",
    "    description = cat[entry].describe()\n",
    "    params = description[\"user_parameters\"]\n",
    "    if len(params) != 0:\n",
    "        for i in range(len(params)):\n",
    "            print(f\"\"\"    {params[i][\"name\"]}: {params[i][\"allowed\"]}\"\"\")            \n",
    "    else:\n",
    "        print(\"    Not implemented.\")\n",
    "    print()"
   ]
  },
  {
   "cell_type": "code",
   "execution_count": null,
   "id": "e51f6c63-3761-428a-aa15-47024253a851",
   "metadata": {},
   "outputs": [],
   "source": [
    "# We can now access one dataset with a single line command\n",
    "ds = cat.eNATL60(region='1',datatype='surface_hourly', season='fma').to_dask()\n",
    "ds"
   ]
  },
  {
   "cell_type": "markdown",
   "id": "6ff41933-5e91-4309-b70b-37fef54f858c",
   "metadata": {},
   "source": [
    "# Interpolate finite-volume velocities to tracer points"
   ]
  },
  {
   "cell_type": "code",
   "execution_count": null,
   "id": "5155794a-c6e2-4157-a429-ad8a9a315794",
   "metadata": {
    "tags": []
   },
   "outputs": [],
   "source": [
    "u = .5*(ds.sozocrtx.where(ds.umask!=0.) \n",
    "        + ds.sozocrtx.where(ds.umask!=0.).roll(x=-1)\n",
    "       ).isel(x=slice(None,-1),y=slice(None,-1))\n",
    "v = .5*(ds.somecrty.where(ds.vmask!=0.) \n",
    "        + ds.somecrty.where(ds.vmask!=0.).roll(y=-1)\n",
    "       ).isel(y=slice(None,-1),x=slice(None,-1))\n",
    "X = ds.e1t.cumsum('x').isel(y=slice(None,-1),x=slice(None,-1))\n",
    "Y = ds.e2t.cumsum('y').isel(y=slice(None,-1),x=slice(None,-1))\n",
    "X.plot()"
   ]
  },
  {
   "cell_type": "markdown",
   "id": "c6781f3b-53dd-4480-9f73-9d2ffbebfc39",
   "metadata": {},
   "source": [
    "# Interpolate onto uniform grid"
   ]
  },
  {
   "cell_type": "code",
   "execution_count": null,
   "id": "674d1d2d-87b8-45d4-95b2-8c6fcc46ed09",
   "metadata": {},
   "outputs": [],
   "source": [
    "ny, nx = X.shape\n",
    "X = X - X.isel(x=nx//2)\n",
    "xx = (X - X.isel(y=-1,x=0)).values.flatten()\n",
    "yy = (Y - Y.isel(y=0)).values.flatten()\n",
    "dx = ds.e1t.min().values\n",
    "dy = ds.e2t.min().values\n",
    "A = (ds.e1t * ds.e2t).isel(y=slice(None,-1),x=slice(None,-1))\n",
    "\n",
    "xxx, yyy = np.mgrid[0:nx*dx:dx, 0:ny*dy:dy]"
   ]
  },
  {
   "cell_type": "code",
   "execution_count": null,
   "id": "5742b974-8d86-4224-bf52-3a75eb48375a",
   "metadata": {},
   "outputs": [],
   "source": [
    "Aterp = griddata((xx, yy),\n",
    "                 A.values.flatten(),\n",
    "                 (xxx, yyy) \n",
    "                ).T "
   ]
  },
  {
   "cell_type": "code",
   "execution_count": null,
   "id": "e127c36e-768a-4bb6-aaa2-f0a375d9ba6b",
   "metadata": {},
   "outputs": [],
   "source": [
    "uterp = xr.DataArray(np.ones_like(u[::240]), dims=['time','YC','XC'],\n",
    "                     coords={'time':ds.time_counter[::240].data,\n",
    "                             'YC':np.arange(0,ny*dy,dy),\n",
    "                             'XC':np.arange(0,nx*dx,dx)}\n",
    "                    )\n",
    "vterp = xr.DataArray(np.ones_like(v[::240]), dims=['time','YC','XC'],\n",
    "                     coords={'time':ds.time_counter[::240].data,\n",
    "                             'YC':np.arange(0,ny*dy,dy),\n",
    "                             'XC':np.arange(0,nx*dx,dx)}\n",
    "                    )\n",
    "\n",
    "for it in range(len(ds.time_counter[::240])):\n",
    "    uterp.isel(time=it)[:] = griddata((xx, yy),\n",
    "                                      (u[::240]*A).isel(time_counter=it).values.flatten(),\n",
    "                                      (xxx, yyy) \n",
    "                                     ).T \n",
    "    vterp.isel(time=it)[:] = griddata((xx, yy), \n",
    "                                      (v[::240]*A).isel(time_counter=it).values.flatten(),\n",
    "                                      (xxx, yyy) \n",
    "                                     ).T\n",
    "    \n",
    "uterp /= Aterp\n",
    "vterp /= Aterp"
   ]
  },
  {
   "cell_type": "code",
   "execution_count": null,
   "id": "1f5fb82a-4df5-4271-8775-438d94828e09",
   "metadata": {},
   "outputs": [],
   "source": [
    "fig, (ax1,ax2) = plt.subplots(nrows=1, ncols=2, figsize=(12,5))\n",
    "\n",
    "im = ax1.pcolormesh((X - X.isel(y=-1,x=0)), (Y - Y.isel(y=0)),\n",
    "                    u.isel(time_counter=0),\n",
    "                    vmin=-2, vmax=2, cmap='RdBu_r')\n",
    "uterp.isel(time=0).plot(ax=ax2, vmin=-2, vmax=2, cmap='RdBu_r')\n",
    "\n",
    "fig.colorbar(im, ax=ax1)"
   ]
  },
  {
   "cell_type": "markdown",
   "id": "409225da-2163-45ed-a936-1a2280ce65c2",
   "metadata": {},
   "source": [
    "# Compute isotropic power spectra"
   ]
  },
  {
   "cell_type": "code",
   "execution_count": null,
   "id": "f0009fb7-2af7-4d55-a4e9-f40866778397",
   "metadata": {},
   "outputs": [],
   "source": [
    "Eu = xrft.isotropic_power_spectrum(uterp.fillna(0.), \n",
    "                                   dim=['YC','XC'], window='hann', detrend='linear', \n",
    "                                   true_phase=True, true_amplitude=True, \n",
    "                                   window_correction=True,\n",
    "                                   truncate=True\n",
    "                                  )\n",
    "Ev = xrft.isotropic_power_spectrum(vterp.fillna(0.), \n",
    "                                   dim=['YC','XC'], window='hann', detrend='linear', \n",
    "                                   true_phase=True, true_amplitude=True,\n",
    "                                   window_correction=True,\n",
    "                                   truncate=True\n",
    "                                  )"
   ]
  },
  {
   "cell_type": "code",
   "execution_count": null,
   "id": "0f8b8051-b794-4924-8b88-6c0a027757ba",
   "metadata": {},
   "outputs": [],
   "source": [
    "fig, ax = plt.subplots()\n",
    "fig.set_tight_layout(True)\n",
    "\n",
    "ax.plot(Eu.freq_r*1e3, .5*(Eu+Ev).mean('time')*2*np.pi)\n",
    "\n",
    "ax.set_xscale('log')\n",
    "ax.set_yscale('log')\n",
    "ax.grid(True)\n",
    "\n",
    "ax.set_xlabel(r\"[cpkm]\", fontsize=12)\n",
    "ax.set_ylabel(r\"[(m$^2$ s$^{-2}$) / cpm]\", fontsize=12)"
   ]
  }
 ],
 "metadata": {
  "kernelspec": {
   "display_name": "Python 3 (ipykernel)",
   "language": "python",
   "name": "python3"
  },
  "language_info": {
   "codemirror_mode": {
    "name": "ipython",
    "version": 3
   },
   "file_extension": ".py",
   "mimetype": "text/x-python",
   "name": "python",
   "nbconvert_exporter": "python",
   "pygments_lexer": "ipython3",
   "version": "3.10.8"
  }
 },
 "nbformat": 4,
 "nbformat_minor": 5
}
