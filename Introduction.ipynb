{
 "cells": [
  {
   "cell_type": "markdown",
   "id": "474560ee-bab3-43d3-9859-449f64258d06",
   "metadata": {
    "slideshow": {
     "slide_type": "slide"
    },
    "tags": []
   },
   "source": [
    "# Introduction to cloud computing"
   ]
  },
  {
   "cell_type": "markdown",
   "id": "eb3d05cc-eb92-4c22-9e43-591e1a650636",
   "metadata": {
    "slideshow": {
     "slide_type": "fragment"
    }
   },
   "source": [
    "## Most of the following slides have been taken from Ryan Abernathey's presentation : [Beyond FAIR what data infrastructure does open science need ?](https://speakerdeck.com/rabernat/beyond-fair-talk-for-ooifb-data-systems-committee)"
   ]
  },
  {
   "cell_type": "raw",
   "id": "9bffa657",
   "metadata": {
    "slideshow": {
     "slide_type": "notes"
    }
   },
   "source": [
    "To display the slides : jupyter nbconvert 'Presentation Slides with Jupyter Notebook.ipynb' --to slides --post serve\n",
    "\n",
    "In this hands-on session we will use a cloud computing server and some simulations outputs available on the cloud to make some science\n",
    "\n",
    "First I would like to introduce why we are doing that and how such infrastructure can help analysing the climate big data"
   ]
  },
  {
   "cell_type": "markdown",
   "id": "4c3c7e71-3cc8-4f46-a289-39a269b708b6",
   "metadata": {
    "slideshow": {
     "slide_type": "slide"
    }
   },
   "source": [
    "![slide1](images/slide-simulation-big-data.png)"
   ]
  },
  {
   "cell_type": "raw",
   "id": "e810ac30",
   "metadata": {
    "slideshow": {
     "slide_type": "notes"
    }
   },
   "source": [
    "All of you are coming from the simulation world so you know quite well the left panel, you know how to run a simulation, with which tools, the model and on which infrastructure, mostly supercomputers. Doing so you produce a lot of data that others will look at maybe, or yourself but it is a different part of the story.\n",
    "\n",
    "On the right side you see the point of view of the people that are trying to analyse these data and the challenges they face in order to produce meaningful plots. In my opinion this is the most challenging part of the work theses days because it is not easy to find the right scalable tools and the right open infrastructure"
   ]
  },
  {
   "cell_type": "markdown",
   "id": "8a0f80ad-eb30-41b8-87d0-093c34771796",
   "metadata": {
    "slideshow": {
     "slide_type": "slide"
    }
   },
   "source": [
    "![slide2](images/slide-open-science.png)"
   ]
  },
  {
   "cell_type": "raw",
   "id": "b6229cf0",
   "metadata": {
    "slideshow": {
     "slide_type": "notes"
    }
   },
   "source": [
    "Because of course, in the end, what we want is that anyone would be able to reproduce theses analysis and expand them to other simulations or do new analysis on your data."
   ]
  },
  {
   "cell_type": "markdown",
   "id": "75d292bd-2320-48c8-820f-d616a52181cf",
   "metadata": {
    "slideshow": {
     "slide_type": "slide"
    }
   },
   "source": [
    "![slide4](images/slide-download.png)"
   ]
  },
  {
   "cell_type": "raw",
   "id": "3eefe37e",
   "metadata": {
    "slideshow": {
     "slide_type": "notes"
    }
   },
   "source": [
    "What we are used to do, up until now, is that we extract parts of the simulation that are stored on supercomputers servers and we download it onto a personnal computer maybe a local server so we can analyse it locally.\n",
    "\n",
    "This is perfectly reasonable with Megabytes of data, it begins to be heavy when it is terabytes and it is out of question when we talk about petabytes of data, which is the order of magnitude nowadays"
   ]
  },
  {
   "cell_type": "markdown",
   "id": "92e95fbc",
   "metadata": {
    "slideshow": {
     "slide_type": "slide"
    }
   },
   "source": [
    "![slide4](images/slide-data-proximate.png)"
   ]
  },
  {
   "cell_type": "raw",
   "id": "281326f9",
   "metadata": {
    "slideshow": {
     "slide_type": "notes"
    }
   },
   "source": [
    "What we would like now is to bring the analysis directly next to data, whitout any extraction, downloading, reorganization and why not use the computing resssources that are close to the simulation outputs. \n",
    "\n",
    "\n"
   ]
  },
  {
   "cell_type": "markdown",
   "id": "af37a193-8464-441c-935e-41db71093b40",
   "metadata": {
    "slideshow": {
     "slide_type": "slide"
    }
   },
   "source": [
    "![slide3](images/slide-infra.png)"
   ]
  },
  {
   "cell_type": "raw",
   "id": "efd45666",
   "metadata": {
    "slideshow": {
     "slide_type": "notes"
    }
   },
   "source": [
    "We can then think of deploying our analysis tools anywhere the data are available\n",
    "\n",
    "It can even be set up on most supercomputers in France, when most of the simulations are sored. At least they are trying to improve this aspect by dedicating some computing nodes to vizualisation with extra memory, setting up jupyterhubs \n",
    "\n",
    "But the access to them is very much constraints and contredicts the open access to all that we want to happen"
   ]
  },
  {
   "cell_type": "markdown",
   "id": "978a90c8-accf-429d-bb62-1100b861770d",
   "metadata": {
    "slideshow": {
     "slide_type": "slide"
    }
   },
   "source": [
    "![slide5](images/slide-pangeo-stack.png)"
   ]
  },
  {
   "cell_type": "raw",
   "id": "d1c90a2c",
   "metadata": {
    "slideshow": {
     "slide_type": "notes"
    }
   },
   "source": [
    "The solution that can answer this challenge and that pangeo advocates for is to go on the cloud.\n",
    "\n",
    "The infrastructure pangeo is developping can actually be deployed anywhere. It consists in a user interface, jupyter, some python libraries that will handle data at scale, xarray+dask and a file format that is optimized for cloud computing but show very good performance on HPC too.\n",
    "\n",
    "Other specific tools are also build on top on this core tools, we are going to have a look at them in details in the hands-on\n"
   ]
  },
  {
   "cell_type": "markdown",
   "id": "9b132e48-2f9d-4ecd-be48-4b36faaaf561",
   "metadata": {
    "slideshow": {
     "slide_type": "slide"
    }
   },
   "source": [
    "![slide6](images/slide-arco.png)"
   ]
  },
  {
   "cell_type": "raw",
   "id": "5708cde3",
   "metadata": {
    "slideshow": {
     "slide_type": "notes"
    }
   },
   "source": [
    "About the data, optimized for the cloud is one thing, analysis ready is even better and that means that we do not think in files anymore but in datasets, metadata are explicit etc ..."
   ]
  },
  {
   "cell_type": "markdown",
   "id": "314f1e1b-d903-437b-8e48-a68a053c7e6f",
   "metadata": {
    "slideshow": {
     "slide_type": "slide"
    }
   },
   "source": [
    "![slide7](images/slide-pangeo-forge.png)"
   ]
  },
  {
   "cell_type": "raw",
   "id": "3ba6e7c2",
   "metadata": {
    "slideshow": {
     "slide_type": "notes"
    }
   },
   "source": [
    "It can be hard to go from simulations outputs to ARCO data that is why pangeo forge exists, I am just mentionning it here, if you want more details you can always ask me later this week\n"
   ]
  },
  {
   "cell_type": "markdown",
   "id": "53bcb8ab",
   "metadata": {
    "slideshow": {
     "slide_type": "slide"
    }
   },
   "source": [
    "![slide](images/slide-catalogs.png)"
   ]
  },
  {
   "cell_type": "raw",
   "id": "b9367198",
   "metadata": {
    "slideshow": {
     "slide_type": "notes"
    }
   },
   "source": [
    "A lot of observations and simulations have been trsanfered to the cloud since the beginning of PANGEO and with pangeo forge it is going bigger and bigger"
   ]
  },
  {
   "cell_type": "markdown",
   "id": "e8c9823b",
   "metadata": {
    "slideshow": {
     "slide_type": "slide"
    }
   },
   "source": [
    "![slide](images/slide-paper-tuchida.png)"
   ]
  },
  {
   "cell_type": "raw",
   "id": "df54d637",
   "metadata": {
    "slideshow": {
     "slide_type": "notes"
    }
   },
   "source": [
    "And that is how nice intercomparisons between models can be done like in this paper written by Takaya !"
   ]
  },
  {
   "cell_type": "markdown",
   "id": "7d000348-375d-4013-866b-6ed6f641c5f6",
   "metadata": {},
   "source": [
    "Let's try for ourselves some computation on the cloud, first some [basics](Basics.ipynb)"
   ]
  }
 ],
 "metadata": {
  "celltoolbar": "Diaporama",
  "kernelspec": {
   "display_name": "Python 3 (ipykernel)",
   "language": "python",
   "name": "python3"
  },
  "language_info": {
   "codemirror_mode": {
    "name": "ipython",
    "version": 3
   },
   "file_extension": ".py",
   "mimetype": "text/x-python",
   "name": "python",
   "nbconvert_exporter": "python",
   "pygments_lexer": "ipython3",
   "version": "3.10.8"
  }
 },
 "nbformat": 4,
 "nbformat_minor": 5
}
