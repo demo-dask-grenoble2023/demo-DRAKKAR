{
 "cells": [
  {
   "cell_type": "code",
   "execution_count": null,
   "id": "7d35950e-5c3a-47d1-a377-d003f9392fd3",
   "metadata": {},
   "outputs": [],
   "source": [
    "from intake import open_catalog\n",
    "\n",
    "cat = open_catalog(\"https://raw.githubusercontent.com/pangeo-data/pangeo-datastore/master/intake-catalogs/ocean/MEOM-NEMO.yaml\")\n",
    "ds  = cat[\"NATL60_SSH\"].to_dask()"
   ]
  },
  {
   "cell_type": "code",
   "execution_count": null,
   "id": "929e089d-25a1-4689-87f8-855d6ce38399",
   "metadata": {},
   "outputs": [],
   "source": [
    "ds"
   ]
  },
  {
   "cell_type": "code",
   "execution_count": null,
   "id": "2ec7733b-3116-4277-990a-3bf44cd0ff5e",
   "metadata": {},
   "outputs": [],
   "source": [
    "ssh=ds.sossheig\n",
    "ssh"
   ]
  },
  {
   "cell_type": "code",
   "execution_count": null,
   "id": "ff320f41-9725-4af0-98a0-343e35bd6e3c",
   "metadata": {},
   "outputs": [],
   "source": [
    "# We only have 58Gb available but we can still handle a 611Gb variable\n",
    "xymean = ds.sossheig.mean(dim=('x', 'y'))"
   ]
  },
  {
   "cell_type": "code",
   "execution_count": null,
   "id": "c263eccc-541e-44e2-9312-f7c6d3862418",
   "metadata": {},
   "outputs": [],
   "source": [
    "%%time\n",
    "xymean.load()"
   ]
  },
  {
   "cell_type": "code",
   "execution_count": null,
   "id": "18ecab6a-3d25-44bd-b65a-808efa12a354",
   "metadata": {},
   "outputs": [],
   "source": [
    "chunk_dict = {\"time_counter\":30, \"y\": 1000, \"x\": 1000}\n",
    "ssh2 = ssh.chunk(chunk_dict)\n",
    "ssh2"
   ]
  },
  {
   "cell_type": "code",
   "execution_count": null,
   "id": "4d258ea7-d49f-40b4-bcae-2e9ee573cb78",
   "metadata": {},
   "outputs": [],
   "source": [
    "# We only have 58Gb available but we can still handle a 611Gb variable\n",
    "xymean2 = ssh2.mean(dim=('x', 'y'))"
   ]
  },
  {
   "cell_type": "code",
   "execution_count": null,
   "id": "1db28f2f-94fa-43d1-a877-c97ffdc7488e",
   "metadata": {},
   "outputs": [],
   "source": [
    "%%time\n",
    "xymean2.load()"
   ]
  },
  {
   "cell_type": "code",
   "execution_count": null,
   "id": "28038d9c-02c6-41d2-aa66-b2c778f31c55",
   "metadata": {},
   "outputs": [],
   "source": [
    "store='https://ncsa.osn.xsede.org/Pangeo/pangeo-forge/swot_adac/eNATL60/Region01/surface_hourly/fma.zarr'\n",
    "ds = xr.open_dataset(store, engine='zarr', chunks={})\n",
    "ds"
   ]
  }
 ],
 "metadata": {
  "kernelspec": {
   "display_name": "Python 3 (ipykernel)",
   "language": "python",
   "name": "python3"
  },
  "language_info": {
   "codemirror_mode": {
    "name": "ipython",
    "version": 3
   },
   "file_extension": ".py",
   "mimetype": "text/x-python",
   "name": "python",
   "nbconvert_exporter": "python",
   "pygments_lexer": "ipython3",
   "version": "3.10.8"
  }
 },
 "nbformat": 4,
 "nbformat_minor": 5
}
