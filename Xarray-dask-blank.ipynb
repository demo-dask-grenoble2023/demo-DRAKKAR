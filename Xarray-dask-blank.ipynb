{
 "cells": [
  {
   "cell_type": "markdown",
   "id": "badef826-024a-4bf1-9f85-18ac90c19358",
   "metadata": {},
   "source": [
    "# Using dask to scale the analysis of data on the cloud"
   ]
  },
  {
   "cell_type": "markdown",
   "id": "ab388539-cffc-4e6d-935b-0cb8d29468ff",
   "metadata": {},
   "source": [
    "## Explore data with xarray"
   ]
  },
  {
   "cell_type": "code",
   "execution_count": null,
   "id": "748c5154",
   "metadata": {},
   "outputs": [],
   "source": [
    "import xarray as xr"
   ]
  },
  {
   "cell_type": "code",
   "execution_count": null,
   "id": "481cf12c",
   "metadata": {},
   "outputs": [],
   "source": [
    "# Let's open a dataset that is sitting on the cloud\n",
    "store = 'https://ncsa.osn.xsede.org/Pangeo/pangeo-forge/cmip6-feedstock/CMIP6.CMIP.CCCma.CanESM5.historical.r1i1p1f1.Omon.zos.gn.v20190429.zarr'\n",
    "ds = xr.open_dataset(store, engine='zarr', chunks={})\n",
    "ds"
   ]
  },
  {
   "cell_type": "code",
   "execution_count": null,
   "id": "deed81ab-2c7c-4bd3-b962-fc72dac5e26f",
   "metadata": {},
   "outputs": [],
   "source": [
    "# We look at one variable \n",
    "ds['zos']"
   ]
  },
  {
   "cell_type": "code",
   "execution_count": null,
   "id": "fcc52c05-1d73-4ca0-9ceb-9bbd8a4f73fb",
   "metadata": {},
   "outputs": [],
   "source": [
    "# We plot a map at one date\n",
    "ds['zos'].sel(time=\"2014-01-16\").plot()"
   ]
  },
  {
   "cell_type": "code",
   "execution_count": null,
   "id": "1328b150-1dc0-4da7-8549-c6f13ee02260",
   "metadata": {},
   "outputs": [],
   "source": [
    "# A time serie at one location\n",
    "ds['zos'].isel(i=100,j=100).plot()"
   ]
  },
  {
   "cell_type": "markdown",
   "id": "7a3c3385-fbf0-471e-8cdf-f991ad121194",
   "metadata": {},
   "source": [
    "An important aspect of xarray is that it allows lazily-evaluated operations.\n",
    "\n",
    "That means that computation is not done right away but planned for when we actually need the result, to plot or print for instance."
   ]
  },
  {
   "cell_type": "code",
   "execution_count": null,
   "id": "cc1c9f8b-4161-4843-883d-4dd0b1ca01e4",
   "metadata": {},
   "outputs": [],
   "source": [
    "%%time\n",
    "#That is why this is quasi instantaneous\n",
    "ds['zos'].mean(dim='time')"
   ]
  },
  {
   "cell_type": "code",
   "execution_count": null,
   "id": "ef31b07c-37f0-4794-a53d-ab5c29ef1106",
   "metadata": {},
   "outputs": [],
   "source": [
    "%%time\n",
    "# and this takes some time\n",
    "ds['zos'].mean(dim='time').plot()"
   ]
  },
  {
   "cell_type": "code",
   "execution_count": null,
   "id": "b1e8df65-a6d4-470d-ae98-13f17364eb0a",
   "metadata": {},
   "outputs": [],
   "source": [
    "%%time\n",
    "# A more complex operation : seasonal mean\n",
    "ssh_seasonal = ds['zos'].groupby(\"time.season\").mean()\n",
    "ssh_seasonal.plot(col=\"season\", col_wrap=2)"
   ]
  },
  {
   "cell_type": "markdown",
   "id": "66316caa-4257-4cd5-be77-887e274a8deb",
   "metadata": {},
   "source": [
    "## Let's use xarray with dask"
   ]
  },
  {
   "cell_type": "code",
   "execution_count": null,
   "id": "d2480a2d-c91c-4932-a9c4-5fc9d1bd4701",
   "metadata": {},
   "outputs": [],
   "source": [
    "import dask"
   ]
  },
  {
   "cell_type": "markdown",
   "id": "b8733f29-2fb0-428d-b013-f4ec82f62371",
   "metadata": {},
   "source": [
    "Click on the dask symbol on the left, then on +NEW button\n",
    "\n",
    "Wait for the cluster to launch, then drag and drop the blue box in a cell below, and execute it"
   ]
  },
  {
   "cell_type": "raw",
   "id": "f6a9bf42-943a-4236-bf88-4372f4317df8",
   "metadata": {},
   "source": [
    "It should look like this :\n",
    "    \n",
    "from dask.distributed import Client\n",
    "\n",
    "client = Client(\"tcp://127.0.0.1:40977\")\n",
    "client"
   ]
  },
  {
   "cell_type": "markdown",
   "id": "05b5366b-c2ea-4211-8b2b-61577dd0e5be",
   "metadata": {},
   "source": [
    "Select some dashboard metrics to follow : Progress, Task Stream, CPU and Cluster Memory, and rearrange the lab windows"
   ]
  },
  {
   "cell_type": "markdown",
   "id": "d8365e4e-c919-4bae-8fcb-bc52c5381b95",
   "metadata": {},
   "source": [
    "Let's open a new dataset"
   ]
  },
  {
   "cell_type": "code",
   "execution_count": null,
   "id": "069ee417-2967-4445-bce8-94d423c93b2b",
   "metadata": {},
   "outputs": [],
   "source": [
    "#This is a satellite product of the sea surface height available from anywhere thanks to the pangeo catalog\n",
    "from intake import open_catalog\n",
    "cat = open_catalog(\"https://raw.githubusercontent.com/pangeo-data/pangeo-datastore/master/intake-catalogs/ocean.yaml\")\n",
    "ds  = cat[\"sea_surface_height\"].to_dask()\n",
    "ds"
   ]
  },
  {
   "cell_type": "code",
   "execution_count": null,
   "id": "43eb61fd-3d5d-4932-b31c-8e01834d7396",
   "metadata": {},
   "outputs": [],
   "source": [
    "# One variable size in Gb\n",
    "ds.sla.nbytes/1e9"
   ]
  },
  {
   "cell_type": "code",
   "execution_count": null,
   "id": "39f1f01f-dafc-4070-8eb0-f9cb129350af",
   "metadata": {},
   "outputs": [],
   "source": [
    "# We only have 15Gb available but we can still handle this variable\n",
    "xymean = ds.sla.mean(dim=('latitude', 'longitude'))"
   ]
  },
  {
   "cell_type": "code",
   "execution_count": null,
   "id": "0f89efeb-6b4b-4f69-a393-77da81d27a9e",
   "metadata": {},
   "outputs": [],
   "source": [
    "%%time\n",
    "# Nothing is happenning while we do not load the computation\n",
    "xymean.load()"
   ]
  },
  {
   "cell_type": "code",
   "execution_count": null,
   "id": "3902cdb5-8dbd-4690-99ee-3131a4bf465d",
   "metadata": {},
   "outputs": [],
   "source": [
    "%%time\n",
    "#when we run it a second time it will be even faster\n",
    "xymean.load()"
   ]
  },
  {
   "cell_type": "code",
   "execution_count": null,
   "id": "7fe25ae7-14c6-4cbb-aea5-df78a414fe02",
   "metadata": {},
   "outputs": [],
   "source": [
    "# That is why this plot is so fast\n",
    "\n",
    "import matplotlib.pyplot as plt\n",
    "xymean.plot(label='full data')\n",
    "xymean.rolling(time=365, center=True).mean().plot(label='rolling annual mean')\n",
    "plt.ylabel('Sea Level Anomaly [m]')\n",
    "plt.title('Global Mean Sea Level')\n",
    "plt.legend()\n",
    "plt.grid()"
   ]
  },
  {
   "cell_type": "code",
   "execution_count": null,
   "id": "13e6dae6-f6d1-4b1c-8409-bbe6a401640e",
   "metadata": {},
   "outputs": [],
   "source": [
    "#Let's have a look at the chunks\n",
    "ds.sla"
   ]
  },
  {
   "cell_type": "code",
   "execution_count": null,
   "id": "442e2075-5d02-4594-8758-4ade30550423",
   "metadata": {},
   "outputs": [],
   "source": [
    "#Another example of chunking strategy\n",
    "from intake import open_catalog\n",
    "\n",
    "cat = open_catalog(\"https://raw.githubusercontent.com/pangeo-data/pangeo-datastore/master/intake-catalogs/ocean/MEOM-NEMO.yaml\")\n",
    "ds  = cat[\"eNATL60_BLBT02_SSU\"].to_dask()\n",
    "ds.sozocrtx"
   ]
  },
  {
   "cell_type": "code",
   "execution_count": null,
   "id": "b1b86ce4-0468-4fa8-8a37-1ee200dc520f",
   "metadata": {},
   "outputs": [],
   "source": []
  }
 ],
 "metadata": {
  "kernelspec": {
   "display_name": "Python 3 (ipykernel)",
   "language": "python",
   "name": "python3"
  },
  "language_info": {
   "codemirror_mode": {
    "name": "ipython",
    "version": 3
   },
   "file_extension": ".py",
   "mimetype": "text/x-python",
   "name": "python",
   "nbconvert_exporter": "python",
   "pygments_lexer": "ipython3",
   "version": "3.10.8"
  }
 },
 "nbformat": 4,
 "nbformat_minor": 5
}
