{
 "cells": [
  {
   "cell_type": "markdown",
   "id": "063efa8b-58cd-4d19-8daf-dd68cf63b17f",
   "metadata": {},
   "source": [
    "# Launch dask cluster"
   ]
  },
  {
   "cell_type": "markdown",
   "id": "b6b2573a-fd1e-4535-b09c-7fa7a9cfa80d",
   "metadata": {},
   "source": [
    "We first launch a cluster and import it in the notebook, it should look like this :"
   ]
  },
  {
   "cell_type": "raw",
   "id": "dacbca86-fb71-4cad-a68a-6fabd320040a",
   "metadata": {},
   "source": [
    "from dask.distributed import Client\n",
    "\n",
    "client = Client(\"tcp://127.0.0.1:46273\")\n",
    "client"
   ]
  },
  {
   "cell_type": "markdown",
   "id": "317bb5b8-a682-44fe-aa91-5baaa1a421a7",
   "metadata": {},
   "source": [
    "# Import libraries"
   ]
  },
  {
   "cell_type": "markdown",
   "id": "4fc68aef-f365-4510-97b0-e7e783e9da9e",
   "metadata": {},
   "source": [
    "We load basic libraries (numpy, xarray, matplotlib) and one more specific :\n",
    "  - gcm_filters for spatial filtering compatible with xarray : https://gcm-filters.readthedocs.io/en/latest/\n"
   ]
  },
  {
   "cell_type": "code",
   "execution_count": null,
   "id": "d09a420a-7bbc-4bb2-8e23-db199aff7f29",
   "metadata": {},
   "outputs": [],
   "source": [
    "import numpy as np\n",
    "import xarray as xr\n",
    "import gcm_filters\n",
    "import matplotlib.colors as clr\n",
    "import matplotlib.pyplot as plt\n",
    "%matplotlib inline"
   ]
  },
  {
   "cell_type": "markdown",
   "id": "aa40c355-cc21-4740-8a38-8a237e034623",
   "metadata": {},
   "source": [
    "# Call data"
   ]
  },
  {
   "cell_type": "markdown",
   "id": "5a3cbd42-2172-44f1-9c16-0c3a0e05f548",
   "metadata": {},
   "source": [
    "We use the catalog to import our dataset"
   ]
  },
  {
   "cell_type": "code",
   "execution_count": null,
   "id": "91394c82-2f33-4338-a085-eabecfa257a8",
   "metadata": {},
   "outputs": [],
   "source": [
    "from validate_catalog import all_params\n",
    "params_dict, cat = all_params()\n",
    "params_dict.keys()"
   ]
  },
  {
   "cell_type": "code",
   "execution_count": null,
   "id": "3edd69af-f323-4ac8-8b32-578d17f2282b",
   "metadata": {},
   "outputs": [],
   "source": [
    "enatl01w = cat.eNATL60(region='1',datatype='surface_hourly', season='fma'\n",
    "                      ).to_dask()\n",
    "\n",
    "enatl01w"
   ]
  },
  {
   "cell_type": "markdown",
   "id": "2eece204-23a6-4f8c-ab32-ee142227c2a3",
   "metadata": {},
   "source": [
    "# Set up variables needed for ${\\tt gcm-filters}$"
   ]
  },
  {
   "cell_type": "code",
   "execution_count": null,
   "id": "b2bd3f0f-c2d8-4bd0-9d82-e4c427a4727e",
   "metadata": {},
   "outputs": [],
   "source": [
    "wet_mask = xr.DataArray(np.zeros_like(enatl01w.sosstsst.isel(time_counter=0)),\n",
    "                        dims=['y','x'],\n",
    "                        coords={'y':np.arange(len(enatl01w.y)),\n",
    "                                'x':np.arange(len(enatl01w.x))}\n",
    "           )\n",
    "wet_mask[1:-1,1:-1] = enatl01w.tmask[1:-1,1:-1].data.astype(np.float64)\n",
    "\n",
    "wet_mask.plot()"
   ]
  },
  {
   "cell_type": "code",
   "execution_count": null,
   "id": "f8ce3f42-78fd-442e-b06c-fb2292f2782f",
   "metadata": {},
   "outputs": [],
   "source": [
    "sst = xr.DataArray(.5*(enatl01w.sosstsst.fillna(0.).data \n",
    "                       + enatl01w.sosstsst.fillna(0.).data\n",
    "                      ),\n",
    "                   dims=['time_counter','y','x'],\n",
    "                   coords={'time_counter':enatl01w.time_counter.data, \n",
    "                           'y':np.arange(len(enatl01w.y)),\n",
    "                           'x':np.arange(len(enatl01w.x))}\n",
    "                  )"
   ]
  },
  {
   "cell_type": "code",
   "execution_count": null,
   "id": "b1f175c7-cbfa-418b-875a-b24df60ed956",
   "metadata": {},
   "outputs": [],
   "source": [
    "area = (enatl01w.e1t * enatl01w.e2t)\n",
    "\n",
    "area.plot()"
   ]
  },
  {
   "cell_type": "code",
   "execution_count": null,
   "id": "d6952ea4-3a53-4d9c-8389-4bcee7fa1af5",
   "metadata": {},
   "outputs": [],
   "source": [
    "dxw = xr.DataArray(enatl01w.e1u.data, dims=['y','x'],\n",
    "                   coords={'y':np.arange(len(enatl01w.y)),\n",
    "                           'x':np.arange(len(enatl01w.x))}\n",
    "                  ) # x-spacing centered at western cell edge\n",
    "\n",
    "dyw = xr.DataArray(enatl01w.e2u.data, dims=['y','x'],\n",
    "                   coords={'y':np.arange(len(enatl01w.y)),\n",
    "                           'x':np.arange(len(enatl01w.x))}\n",
    "                  ) # y-spacing centered at western cell edge\n",
    "\n",
    "dxs = xr.DataArray(enatl01w.e1v.data, dims=['y','x'],\n",
    "                   coords={'y':np.arange(len(enatl01w.y)),\n",
    "                           'x':np.arange(len(enatl01w.x))}\n",
    "                  ) # x-spacing centered at southern cell edge\n",
    "\n",
    "dys = xr.DataArray(enatl01w.e2v.data, dims=['y','x'],\n",
    "                   coords={'y':np.arange(len(enatl01w.y)),\n",
    "                           'x':np.arange(len(enatl01w.x))}\n",
    "                  ) # y-spacing centered at southern cell edge\n",
    "dxw"
   ]
  },
  {
   "cell_type": "code",
   "execution_count": null,
   "id": "70af0a59-a518-448f-8619-de767c7db2f1",
   "metadata": {},
   "outputs": [],
   "source": [
    "dx_min = min(enatl01w.e1u.min(['y','x']), enatl01w.e2u.min(['y','x']),\n",
    "             enatl01w.e1v.min(['y','x']), enatl01w.e2v.min(['y','x'])\n",
    "            )\n",
    "dx_min = dx_min.values\n",
    "dx_min"
   ]
  },
  {
   "cell_type": "code",
   "execution_count": null,
   "id": "3c998f68-24d7-406d-b86b-9df17fe88231",
   "metadata": {},
   "outputs": [],
   "source": [
    "kappa_w = xr.zeros_like(wet_mask)\n",
    "kappa_w[1:-1,1:-1] += 1.\n",
    "kappa_s = xr.zeros_like(wet_mask)\n",
    "kappa_s[1:-1,1:-1] += 1."
   ]
  },
  {
   "cell_type": "code",
   "execution_count": null,
   "id": "cf84d1ab-c5ef-4bf0-9fea-f911cdb96260",
   "metadata": {},
   "outputs": [],
   "source": [
    "filter_scale = 30000   # 30 km\n",
    "\n",
    "filter_30km = gcm_filters.Filter(\n",
    "    filter_scale=filter_scale,\n",
    "    dx_min=dx_min,\n",
    "    # n_steps=36,\n",
    "    filter_shape=gcm_filters.FilterShape.GAUSSIAN,\n",
    "    grid_type=gcm_filters.GridType.IRREGULAR_WITH_LAND,\n",
    "    grid_vars={\n",
    "        'wet_mask': wet_mask.chunk({'y':-1,'x':-1}), \n",
    "        'dxw': dxw.chunk({'y':-1,'x':-1}), 'dyw': dyw.chunk({'y':-1,'x':-1}), \n",
    "        'dxs': dxs.chunk({'y':-1,'x':-1}), 'dys': dys.chunk({'y':-1,'x':-1}), \n",
    "        'area': area.chunk({'y':-1,'x':-1}), \n",
    "        'kappa_w': kappa_w.chunk({'y':-1,'x':-1}), 'kappa_s': kappa_s.chunk({'y':-1,'x':-1})\n",
    "    }\n",
    ")\n",
    "\n",
    "filter_30km"
   ]
  },
  {
   "cell_type": "markdown",
   "id": "29346529-834b-465c-9cf3-0f325b6c5765",
   "metadata": {},
   "source": [
    "# Filter SST"
   ]
  },
  {
   "cell_type": "code",
   "execution_count": null,
   "id": "67042eae-b10e-42ab-9c94-adc6561bea0b",
   "metadata": {},
   "outputs": [],
   "source": [
    "sst_filtered_to_30km = filter_30km.apply(sst.chunk({'y':-1,'x':-1}), dims=['y', 'x'])\n",
    "\n",
    "fig, ax = plt.subplots()\n",
    "(sst_filtered_to_30km.where(enatl01w.tmask!=0.).isel(time_counter=0)\n",
    ").plot(vmax=4,vmin=26,cmap='magma',ax=ax)\n",
    "ax.set_aspect('equal')"
   ]
  },
  {
   "cell_type": "code",
   "execution_count": null,
   "id": "3886c7f0-245d-4f77-9ac0-70cc1d984e74",
   "metadata": {},
   "outputs": [],
   "source": [
    "vmin = 4\n",
    "vmax = 26\n",
    "\n",
    "fig, axs = plt.subplots(1,3,figsize=(16,6))\n",
    "\n",
    "im = axs[0].pcolormesh(enatl01w.lon.isel(y=slice(1,-1),x=slice(1,-1)), \n",
    "                       enatl01w.lat.isel(y=slice(1,-1),x=slice(1,-1)),\n",
    "                       sst.where(enatl01w.tmask!=0.).isel(time_counter=0, \n",
    "                                                          y=slice(1,-1),x=slice(1,-1)), \n",
    "                       vmin=vmin, vmax=vmax, \n",
    "                       cmap='magma', \n",
    "#                        cbar_kwargs={'label': r'm d$^{-1}$'},\n",
    "                       shading='auto', rasterized=True\n",
    ")\n",
    "axs[0].set_title('unfiltered SST', fontsize=15)\n",
    "\n",
    "axs[1].pcolormesh(enatl01w.lon.isel(y=slice(1,-1),x=slice(1,-1)), \n",
    "                  enatl01w.lat.isel(y=slice(1,-1),x=slice(1,-1)),\n",
    "                  sst_filtered_to_30km.where(enatl01w.tmask!=0.).isel(time_counter=0,\n",
    "                                                                      y=slice(1,-1),x=slice(1,-1)), \n",
    "                  vmin=vmin, vmax=vmax, \n",
    "                  cmap='magma', \n",
    "#                   cbar_kwargs={'label': r'm d$^{-1}$'}\n",
    "                  shading='auto', rasterized=True\n",
    ")\n",
    "axs[1].set_title('SST filtered to 30km', fontsize=15)\n",
    "\n",
    "im2 = axs[2].pcolormesh(enatl01w.lon.isel(y=slice(1,-1),x=slice(1,-1)), \n",
    "                        enatl01w.lat.isel(y=slice(1,-1),x=slice(1,-1)),\n",
    "                        (sst.where(enatl01w.tmask!=0.).isel(time_counter=0) \n",
    "                         - sst_filtered_to_30km.where(enatl01w.tmask!=0.).isel(time_counter=0)\n",
    "                        ).isel(y=slice(1,-1),x=slice(1,-1)), \n",
    "                        vmax=1, vmin=-1,\n",
    "                        cmap='bwr', \n",
    "#                   cbar_kwargs={'label': r'm d$^{-1}$'}\n",
    "                        shading='auto', rasterized=True\n",
    ")\n",
    "axs[2].set_title(r'(unfiltered - filtered) SST', fontsize=15);\n",
    "\n",
    "axs[0].pcolormesh(enatl01w.lon.isel(y=slice(1,-1),x=slice(1,-1)), \n",
    "                  enatl01w.lat.isel(y=slice(1,-1),x=slice(1,-1)), \n",
    "                  np.ma.masked_values(enatl01w.tmask.isel(y=slice(1,-1),x=slice(1,-1)), \n",
    "                                      1.).astype(np.float64),\n",
    "                  vmin=-1, vmax=2, cmap='binary', rasterized=True)\n",
    "axs[1].pcolormesh(enatl01w.lon.isel(y=slice(1,-1),x=slice(1,-1)), \n",
    "                  enatl01w.lat.isel(y=slice(1,-1),x=slice(1,-1)), \n",
    "                  np.ma.masked_values(enatl01w.tmask.isel(y=slice(1,-1),x=slice(1,-1)), \n",
    "                                      1.).astype(np.float64),\n",
    "                  vmin=-1, vmax=2, cmap='binary', rasterized=True)\n",
    "axs[2].pcolormesh(enatl01w.lon.isel(y=slice(1,-1),x=slice(1,-1)), \n",
    "                  enatl01w.lat.isel(y=slice(1,-1),x=slice(1,-1)), \n",
    "                  np.ma.masked_values(enatl01w.tmask.isel(y=slice(1,-1),x=slice(1,-1)), \n",
    "                                      1.).astype(np.float64),\n",
    "                  vmin=-1, vmax=2, cmap='binary', rasterized=True)\n",
    "\n",
    "axs[0].set_ylabel(r\"Latitude\", fontsize=15)\n",
    "axs[0].set_xlabel(r\"Longitude\", fontsize=15)\n",
    "axs[1].set_xlabel(r\"Longitude\", fontsize=15)\n",
    "axs[2].set_xlabel(r\"Longitude\", fontsize=15)\n",
    "\n",
    "axs[0].set_aspect('equal')\n",
    "axs[1].set_aspect('equal')\n",
    "axs[2].set_aspect('equal')\n",
    "\n",
    "fig.subplots_adjust(bottom=0.255, hspace=.2)\n",
    "cbaxes = fig.add_axes([0.2, 0.15, 0.35, 0.019]) \n",
    "cbar = fig.colorbar(im, orientation='horizontal', cax=cbaxes,\n",
    "#                     ticks=[-2.8,-2.1,-1.4,-.7,0.,.7,1.4,2.1,2.8]\n",
    "                   )\n",
    "cbaxes2 = fig.add_axes([0.711, 0.15, 0.15, 0.019]) \n",
    "cbar2 = fig.colorbar(im2, orientation='horizontal', cax=cbaxes2,\n",
    "#                     ticks=[-2.8,-2.1,-1.4,-.7,0.,.7,1.4,2.1,2.8]\n",
    "                    )\n",
    "# cbar.set_powerlimits(-1,1)\n",
    "cbar.set_label(r'[$^\\circ$C]', fontsize=14)\n",
    "cbar2.set_label(r'[$^\\circ$C]', fontsize=14)"
   ]
  }
 ],
 "metadata": {
  "kernelspec": {
   "display_name": "Python 3 (ipykernel)",
   "language": "python",
   "name": "python3"
  },
  "language_info": {
   "codemirror_mode": {
    "name": "ipython",
    "version": 3
   },
   "file_extension": ".py",
   "mimetype": "text/x-python",
   "name": "python",
   "nbconvert_exporter": "python",
   "pygments_lexer": "ipython3",
   "version": "3.10.8"
  }
 },
 "nbformat": 4,
 "nbformat_minor": 5
}
