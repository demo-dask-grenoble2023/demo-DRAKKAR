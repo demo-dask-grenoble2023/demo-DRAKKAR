{
 "cells": [
  {
   "cell_type": "markdown",
   "id": "dacabda3-7158-479f-845f-bffc76349c47",
   "metadata": {
    "tags": []
   },
   "source": [
    "# Using dask to analyse big datasets\n",
    "\n",
    "## Welcome to the MEOM's Jupyterhub deployed for this hands-on session !\n",
    "\n",
    " - First notebook to get familiar with cloud data, xarray and dask : [Basics notebook](Basics.ipynb) \n",
    "\n",
    " - Computation of spectrum : [Spectra eNATL60 notebook](Spectra-eNATL60.ipynb)\n",
    "\n",
    " - Filtering the data : [Filter eNATL60 ntebook](Filter-eNATL60.ipynb)\n",
    "\n",
    "Introduction's slides are available [here](Introduction.ipynb)"
   ]
  }
 ],
 "metadata": {
  "kernelspec": {
   "display_name": "Python 3 (ipykernel)",
   "language": "python",
   "name": "python3"
  },
  "language_info": {
   "codemirror_mode": {
    "name": "ipython",
    "version": 3
   },
   "file_extension": ".py",
   "mimetype": "text/x-python",
   "name": "python",
   "nbconvert_exporter": "python",
   "pygments_lexer": "ipython3",
   "version": "3.10.8"
  }
 },
 "nbformat": 4,
 "nbformat_minor": 5
}
